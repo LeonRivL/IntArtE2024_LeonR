{
  "nbformat": 4,
  "nbformat_minor": 0,
  "metadata": {
    "colab": {
      "provenance": []
    },
    "kernelspec": {
      "name": "python3",
      "display_name": "Python 3"
    },
    "language_info": {
      "name": "python"
    }
  },
  "cells": [
    {
      "cell_type": "markdown",
      "source": [
        "Actividad 6: Redes neuronales\n",
        "\n",
        "Inteligencia Artificial y Redes Neuronales (Martes N4-N6) Grupo:006\n",
        "\n",
        "León José Rivera López 2013653 IMTC"
      ],
      "metadata": {
        "id": "Dfsk2tsIUEDN"
      }
    },
    {
      "cell_type": "code",
      "execution_count": 1,
      "metadata": {
        "id": "zJtxeP2sUBxL"
      },
      "outputs": [],
      "source": [
        "import tensorflow as tf\n",
        "from tensorflow.keras.datasets import mnist"
      ]
    },
    {
      "cell_type": "code",
      "source": [
        "(train_data, train_labels), (test_data, test_labels) = mnist.load_data()"
      ],
      "metadata": {
        "id": "8FV0TGNzWyUs"
      },
      "execution_count": 3,
      "outputs": []
    },
    {
      "cell_type": "code",
      "source": [
        "train_data = train_data / 255.0\n",
        "test_data = test_data / 255.0"
      ],
      "metadata": {
        "id": "8HzlHuqcW1AU"
      },
      "execution_count": 4,
      "outputs": []
    },
    {
      "cell_type": "code",
      "source": [
        "train_data = tf.expand_dims(train_data, axis=-1)\n",
        "test_data = tf.expand_dims(test_data, axis=-1)"
      ],
      "metadata": {
        "id": "s9EYW9iwW5aN"
      },
      "execution_count": 5,
      "outputs": []
    },
    {
      "cell_type": "code",
      "source": [
        "model = tf.keras.Sequential([\n",
        "    tf.keras.layers.Conv2D(32, (3, 3), activation='relu', input_shape=(28, 28, 1)),\n",
        "    tf.keras.layers.MaxPooling2D((2, 2)),\n",
        "    tf.keras.layers.Conv2D(64, (3, 3), activation='relu'),\n",
        "    tf.keras.layers.MaxPooling2D((2, 2)),\n",
        "    tf.keras.layers.Flatten(),\n",
        "    tf.keras.layers.Dense(64, activation='relu'),\n",
        "    tf.keras.layers.Dense(10, activation='softmax')])"
      ],
      "metadata": {
        "id": "gqdmFKaYW7sM"
      },
      "execution_count": 6,
      "outputs": []
    },
    {
      "cell_type": "code",
      "source": [
        "model.compile(optimizer='adam', loss='sparse_categorical_crossentropy', metrics=['accuracy'])"
      ],
      "metadata": {
        "id": "__oLs-QlXGlv"
      },
      "execution_count": 7,
      "outputs": []
    },
    {
      "cell_type": "code",
      "source": [
        "model.fit(train_data, train_labels, epochs=8)"
      ],
      "metadata": {
        "colab": {
          "base_uri": "https://localhost:8080/"
        },
        "id": "oM9is35LXNSF",
        "outputId": "dfb04ad4-d9b0-4b4c-92dd-06e004f012cc"
      },
      "execution_count": 12,
      "outputs": [
        {
          "output_type": "stream",
          "name": "stdout",
          "text": [
            "Epoch 1/8\n",
            "1875/1875 [==============================] - 55s 29ms/step - loss: 0.0039 - accuracy: 0.9988\n",
            "Epoch 2/8\n",
            "1875/1875 [==============================] - 54s 29ms/step - loss: 0.0049 - accuracy: 0.9985\n",
            "Epoch 3/8\n",
            "1875/1875 [==============================] - 56s 30ms/step - loss: 0.0032 - accuracy: 0.9988\n",
            "Epoch 4/8\n",
            "1875/1875 [==============================] - 55s 29ms/step - loss: 0.0042 - accuracy: 0.9987\n",
            "Epoch 5/8\n",
            "1875/1875 [==============================] - 55s 29ms/step - loss: 0.0033 - accuracy: 0.9989\n",
            "Epoch 6/8\n",
            "1875/1875 [==============================] - 55s 29ms/step - loss: 0.0037 - accuracy: 0.9990\n",
            "Epoch 7/8\n",
            "1875/1875 [==============================] - 57s 30ms/step - loss: 0.0034 - accuracy: 0.9989\n",
            "Epoch 8/8\n",
            "1875/1875 [==============================] - 58s 31ms/step - loss: 0.0039 - accuracy: 0.9989\n"
          ]
        },
        {
          "output_type": "execute_result",
          "data": {
            "text/plain": [
              "<keras.src.callbacks.History at 0x7ab0f5cf5480>"
            ]
          },
          "metadata": {},
          "execution_count": 12
        }
      ]
    },
    {
      "cell_type": "code",
      "source": [
        "test_loss, test_accuracy = model.evaluate(test_data, test_labels)\n",
        "print(f'La exactitud del conjunto de prueba es de: {test_accuracy}')"
      ],
      "metadata": {
        "colab": {
          "base_uri": "https://localhost:8080/"
        },
        "id": "3aFeDY8-YX4B",
        "outputId": "b664d723-93b3-42ab-ed16-cd683bfbcce4"
      },
      "execution_count": 13,
      "outputs": [
        {
          "output_type": "stream",
          "name": "stdout",
          "text": [
            "313/313 [==============================] - 5s 17ms/step - loss: 0.0480 - accuracy: 0.9922\n",
            "La exactitud del conjunto de prueba es de: 0.9922000169754028\n"
          ]
        }
      ]
    },
    {
      "cell_type": "code",
      "source": [
        "predictions = model.predict(test_data[:5])\n",
        "for i, prediction in enumerate(predictions):\n",
        "    predicted_label = tf.argmax(prediction).numpy()\n",
        "    true_label = test_labels[i]\n",
        "    print(f'predicción: {predicted_label}, valor real: {true_label}')"
      ],
      "metadata": {
        "colab": {
          "base_uri": "https://localhost:8080/"
        },
        "id": "a57ML3CqYtBq",
        "outputId": "f3d9ce13-513d-4b81-daca-3e24a1f06162"
      },
      "execution_count": 14,
      "outputs": [
        {
          "output_type": "stream",
          "name": "stdout",
          "text": [
            "1/1 [==============================] - 0s 22ms/step\n",
            "predicción: 7, valor real: 7\n",
            "predicción: 2, valor real: 2\n",
            "predicción: 1, valor real: 1\n",
            "predicción: 0, valor real: 0\n",
            "predicción: 4, valor real: 4\n"
          ]
        }
      ]
    }
  ]
}