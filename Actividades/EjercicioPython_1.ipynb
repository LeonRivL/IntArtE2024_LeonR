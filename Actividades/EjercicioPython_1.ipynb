{
  "nbformat": 4,
  "nbformat_minor": 0,
  "metadata": {
    "colab": {
      "provenance": []
    },
    "kernelspec": {
      "name": "python3",
      "display_name": "Python 3"
    },
    "language_info": {
      "name": "python"
    }
  },
  "cells": [
    {
      "cell_type": "markdown",
      "source": [
        "Actividad 2: Diseño de algoritmos en Python\n",
        "\n",
        "Inteligencia Artificial y Redes Neuronales (Martes N4-N6) Grupo:006\n",
        "\n",
        "León José Rivera López\n",
        "2013653 IMTC"
      ],
      "metadata": {
        "id": "9WrJaBgJWRNS"
      }
    },
    {
      "cell_type": "code",
      "source": [
        "\"\"\"Desarrolla un algoritmo que le pida al usuario por su nombre y que lo salude\n",
        "con su nombre, excepto si se llama “Ana”, “Juan”, y “Pedro”.\"\"\"\n",
        "\n",
        "def obtener_nombre():\n",
        "  nombre = input(\"¿Cúal es tu nombre? \")\n",
        "  return nombre.lower()\n",
        "\n",
        "def saludar(nombre):\n",
        "  if nombre not in [\"ana\", \"juan\", \"pedro\"]:\n",
        "    print(f\"Hola {nombre}!\")\n",
        "\n",
        "nombre = obtener_nombre()\n",
        "saludar(nombre)\n"
      ],
      "metadata": {
        "id": "vhZ8DEwFXhEK",
        "colab": {
          "base_uri": "https://localhost:8080/"
        },
        "outputId": "0770466a-3fa4-4dac-e53e-5b0a16eddc6a"
      },
      "execution_count": null,
      "outputs": [
        {
          "output_type": "stream",
          "name": "stdout",
          "text": [
            "¿Cúal es tu nombre? León\n",
            "Hola león!\n"
          ]
        }
      ]
    },
    {
      "cell_type": "code",
      "source": [
        "\"\"\"Desarrolla un algoritmo que por medio de una función, le pida al usuario una\n",
        "lista de N elementos y como resultado invierta el sentido de la lista.\"\"\"\n",
        "\n",
        "def invertir_lista(N):\n",
        "\n",
        "  lista = []\n",
        "  for i in range(N):\n",
        "    elemento = input(\"Ingrese el elemento \" + str(i+1) + \": \")\n",
        "    lista.append(elemento)\n",
        "\n",
        "  lista_invertida = lista[::-1]\n",
        "\n",
        "  return lista_invertida\n",
        "\n",
        "N = int(input(\"¿Cuántos elementos desea ingresar?: \"))\n",
        "\n",
        "lista_invertida = invertir_lista(N)\n",
        "\n",
        "print(\"La lista invertida es:\", lista_invertida)"
      ],
      "metadata": {
        "id": "s_j-w0GkWSUV",
        "colab": {
          "base_uri": "https://localhost:8080/"
        },
        "outputId": "6a4e75d7-fe77-4d17-f4d7-947df96e681f"
      },
      "execution_count": null,
      "outputs": [
        {
          "output_type": "stream",
          "name": "stdout",
          "text": [
            "¿Cuántos elementos desea ingresar?: 3\n",
            "Ingrese el elemento 1: Manzana\n",
            "Ingrese el elemento 2: Pera\n",
            "Ingrese el elemento 3: Banana\n",
            "La lista invertida es: ['Banana', 'Pera', 'Manzana']\n"
          ]
        }
      ]
    },
    {
      "cell_type": "code",
      "source": [
        "\"\"\"Desarrolla un algoritmo que le pregunte al usuario cuántos números de la\n",
        "serie de Fibonacci quiere generar y que al final los imprima.\"\"\"\n",
        "\n",
        "def generar_fibonacci(n):\n",
        "    fibonacci = [0, 1]\n",
        "\n",
        "    for _ in range(2, n):\n",
        "        siguiente_numero = fibonacci[-1] + fibonacci[-2]\n",
        "        fibonacci.append(siguiente_numero)\n",
        "\n",
        "    return fibonacci\n",
        "\n",
        "n = int(input(\"Cantidad de números de la serie de Fibonacci por generar: \"))\n",
        "\n",
        "serie_fibonacci = generar_fibonacci(n)\n",
        "print(\"Serie de Fibonacci:\", serie_fibonacci)"
      ],
      "metadata": {
        "colab": {
          "base_uri": "https://localhost:8080/"
        },
        "id": "xM1322TkBJfQ",
        "outputId": "66d9a91f-91b7-401b-c953-7398faae58dc"
      },
      "execution_count": null,
      "outputs": [
        {
          "output_type": "stream",
          "name": "stdout",
          "text": [
            "Cantidad de números de la serie de Fibonacci por generar: 5\n",
            "Serie de Fibonacci: [0, 1, 1, 2, 3]\n"
          ]
        }
      ]
    },
    {
      "cell_type": "code",
      "source": [
        "\"\"\"Juego de adivinar el número: Crea un programa que genere un número aleatorio\n",
        "entre 1 y 100, y luego le pida al usuario que adivine el número. El programa\n",
        "debe proporcionar pistas al usuario si el número es mayor o menor que el número\n",
        "objetivo, y seguir solicitando un nuevo intento hasta que el usuario adivine\n",
        "correctamente.\"\"\"\n",
        "\n",
        "import random\n",
        "\n",
        "num_aleatorio = random.randint(1, 100)\n",
        "\n",
        "num_adivinado = False\n",
        "while not num_adivinado:\n",
        "  intento = int(input(\"Adivina el número (entre 1 y 100): \"))\n",
        "\n",
        "  if intento == num_aleatorio:\n",
        "    num_adivinado = True\n",
        "    print(\"¡Adivinaste!\")\n",
        "  else:\n",
        "    if intento > num_aleatorio:\n",
        "      print(\"El número objetivo es menor.\")\n",
        "    else:\n",
        "      print(\"El número objetivo es mayor.\")"
      ],
      "metadata": {
        "colab": {
          "base_uri": "https://localhost:8080/"
        },
        "id": "PoAT2FvMBTjv",
        "outputId": "caad2a53-843a-44ac-b46f-722e7cade4eb"
      },
      "execution_count": null,
      "outputs": [
        {
          "output_type": "stream",
          "name": "stdout",
          "text": [
            "Adivina el número (entre 1 y 100): 54\n",
            "El número objetivo es menor.\n",
            "Adivina el número (entre 1 y 100): 32\n",
            "El número objetivo es mayor.\n",
            "Adivina el número (entre 1 y 100): 44\n",
            "El número objetivo es menor.\n",
            "Adivina el número (entre 1 y 100): 41\n",
            "El número objetivo es mayor.\n",
            "Adivina el número (entre 1 y 100): 42\n",
            "¡Adivinaste!\n"
          ]
        }
      ]
    },
    {
      "cell_type": "code",
      "source": [
        "\"\"\"Ejercicio de cálculo de números primos en un rango dado: Escribe un programa\n",
        "que solicite al usuario un rango de números y muestre todos los números primos\n",
        "dentro de ese rango.\"\"\"\n",
        "\n",
        "def num_primo(numero):\n",
        "    if numero < 2:\n",
        "        return False\n",
        "    for i in range(2, numero):\n",
        "        if numero % i == 0:\n",
        "            return False\n",
        "    return True\n",
        "\n",
        "inicio = int(input(\"Numero de inicio del rango: \"))\n",
        "fin = int(input(\"Numero de fin del rango: \"))\n",
        "\n",
        "print(f\"Números primos en el rango [{inicio}, {fin}]:\")\n",
        "for num in range(inicio, fin + 1):\n",
        "    if num_primo(num):\n",
        "        print(num)"
      ],
      "metadata": {
        "colab": {
          "base_uri": "https://localhost:8080/"
        },
        "id": "Fzp5lcLUDQ5X",
        "outputId": "7baa9254-8682-4bcc-f744-d28327650fd7"
      },
      "execution_count": null,
      "outputs": [
        {
          "output_type": "stream",
          "name": "stdout",
          "text": [
            "Numero de inicio del rango: 3\n",
            "Numero de fin del rango: 9\n",
            "Números primos en el rango [3, 9]:\n",
            "3\n",
            "5\n",
            "7\n"
          ]
        }
      ]
    },
    {
      "cell_type": "code",
      "source": [
        "\"\"\"Ejercicio de implementación de una calculadora básica utilizando funciones:\n",
        "Escribe un programa que solicite al usuario dos números y realice operaciones\n",
        "básicas como suma, resta, multiplicación y división utilizando funciones\n",
        "separadas para cada operación.\"\"\"\n",
        "\n",
        "def suma(a, b):\n",
        "  return a + b\n",
        "\n",
        "def resta(a, b):\n",
        "  return a - b\n",
        "\n",
        "def multiplicacion(a, b):\n",
        "  return a * b\n",
        "\n",
        "def division(a, b):\n",
        "  return a / b\n",
        "\n",
        "a = float(input(\"Ingrese un número: \"))\n",
        "b = float(input(\"Ingrese otro número: \"))\n",
        "\n",
        "resultado_suma = suma(a, b)\n",
        "resultado_resta = resta(a, b)\n",
        "resultado_multiplicacion = multiplicacion(a, b)\n",
        "resultado_division = division(a, b)\n",
        "\n",
        "print(\"El resultado de la suma es:\", resultado_suma)\n",
        "print(\"El resultado de la resta es:\", resultado_resta)\n",
        "print(\"El resultado de la multiplicación es:\", resultado_multiplicacion)\n",
        "print(\"El resultado de la división es:\", resultado_division)"
      ],
      "metadata": {
        "colab": {
          "base_uri": "https://localhost:8080/"
        },
        "id": "5obJ-svuDP59",
        "outputId": "208bae76-6058-4bd1-9e9c-eb36c6476827"
      },
      "execution_count": null,
      "outputs": [
        {
          "output_type": "stream",
          "name": "stdout",
          "text": [
            "Ingrese un número: 10\n",
            "Ingrese otro número: 15\n",
            "El resultado de la suma es: 25.0\n",
            "El resultado de la resta es: -5.0\n",
            "El resultado de la multiplicación es: 150.0\n",
            "El resultado de la división es: 0.6666666666666666\n"
          ]
        }
      ]
    }
  ]
}